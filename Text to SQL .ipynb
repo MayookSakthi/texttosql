{
 "cells": [
  {
   "cell_type": "code",
   "execution_count": null,
   "id": "93b28cff-5a74-4621-becd-6b7396c7e611",
   "metadata": {},
   "outputs": [
    {
     "name": "stdout",
     "output_type": "stream",
     "text": [
      "Text-to-SQL Converter: Type your query or 'exit' to quit.\n"
     ]
    }
   ],
   "source": [
    "# Text-to-SQL Converter in Jupyter Notebook\n",
    "\n",
    "# Import necessary libraries\n",
    "import re\n",
    "\n",
    "# Step 1: Preprocess the text input\n",
    "def preprocess_text(input_text):\n",
    "    \"\"\"\n",
    "    Cleans and preprocesses the natural language input text.\n",
    "    \"\"\"\n",
    "    input_text = input_text.lower()  # Convert to lowercase\n",
    "    input_text = re.sub(r\"[^a-zA-Z0-9\\s]\", \"\", input_text)  # Remove special characters\n",
    "    return input_text\n",
    "\n",
    "# Step 2: Generate SQL query from text input\n",
    "def text_to_sql(text):\n",
    "    \"\"\"\n",
    "    Converts a natural language query into an SQL query based on predefined rules.\n",
    "    \"\"\"\n",
    "    # Preprocess the input text\n",
    "    text = preprocess_text(text)\n",
    "    \n",
    "    # Define basic rules to convert text to SQL\n",
    "    if \"employees\" in text and (\"list\" in text or \"all\" in text):\n",
    "        return \"SELECT * FROM employees;\"\n",
    "    elif \"departments\" in text and (\"list\" in text or \"all\" in text):\n",
    "        return \"SELECT * FROM departments;\"\n",
    "    elif \"salary\" in text and \"employees\" in text and \"higher than\" in text:\n",
    "        try:\n",
    "            salary = int(re.search(r\"\\d+\", text).group())\n",
    "            return f\"SELECT * FROM employees WHERE salary > {salary};\"\n",
    "        except:\n",
    "            return \"Invalid salary amount provided.\"\n",
    "    elif \"department\" in text and \"employees\" in text and \"is\" in text:\n",
    "        try:\n",
    "            dept = re.search(r\"(is\\s+)(\\w+)\", text).group(2)\n",
    "            return f\"SELECT * FROM employees WHERE department = '{dept}';\"\n",
    "        except:\n",
    "            return \"Invalid department provided.\"\n",
    "    else:\n",
    "        return \"Sorry, I couldn't understand your request. Please try rephrasing.\"\n",
    "\n",
    "# Step 3: Real-Time Simulation\n",
    "print(\"Text-to-SQL Converter: Type your query or 'exit' to quit.\")\n",
    "while True:\n",
    "    user_input = input(\"You: \")\n",
    "    if user_input.lower() == \"exit\":\n",
    "        print(\"Text-to-SQL Converter: Goodbye!\")\n",
    "        break\n",
    "    sql_query = text_to_sql(user_input)\n",
    "    print(f\"Generated SQL: {sql_query}\")\n"
   ]
  },
  {
   "cell_type": "code",
   "execution_count": null,
   "id": "9760ebc4-b688-435a-81ac-df842e5ecb1b",
   "metadata": {},
   "outputs": [],
   "source": []
  }
 ],
 "metadata": {
  "kernelspec": {
   "display_name": "Python 3 (ipykernel)",
   "language": "python",
   "name": "python3"
  },
  "language_info": {
   "codemirror_mode": {
    "name": "ipython",
    "version": 3
   },
   "file_extension": ".py",
   "mimetype": "text/x-python",
   "name": "python",
   "nbconvert_exporter": "python",
   "pygments_lexer": "ipython3",
   "version": "3.12.7"
  }
 },
 "nbformat": 4,
 "nbformat_minor": 5
}
